{
 "cells": [
  {
   "cell_type": "code",
   "execution_count": 1,
   "metadata": {},
   "outputs": [
    {
     "name": "stderr",
     "output_type": "stream",
     "text": [
      "/anaconda3/envs/dev2/lib/python3.7/site-packages/socks.py:58: DeprecationWarning: Using or importing the ABCs from 'collections' instead of from 'collections.abc' is deprecated, and in 3.8 it will stop working\n",
      "  from collections import Callable\n",
      "/anaconda3/envs/dev2/lib/python3.7/importlib/_bootstrap.py:219: ImportWarning:\n",
      "\n",
      "can't resolve package from __spec__ or __package__, falling back on __name__ and __path__\n",
      "\n"
     ]
    }
   ],
   "source": [
    "import os\n",
    "import re\n",
    "import pandas as pd\n",
    "import numpy as np\n",
    "from dplython import (DplyFrame, X, diamonds, select, sift, sample_n, sample_frac, arrange, mutate, group_by, summarize)\n",
    "\n",
    "import plotly.plotly\n",
    "import plotly.graph_objs as go\n",
    "import pandas as pd\n",
    "\n",
    "import plotly.offline as offline\n",
    "from plotly.graph_objs import *\n",
    "from plotly.offline import download_plotlyjs, init_notebook_mode, plot, iplot\n",
    "import plotly.figure_factory as ff\n",
    "from plotly import tools\n",
    "\n",
    "%config IPCompleter.greedy=True"
   ]
  },
  {
   "cell_type": "code",
   "execution_count": 2,
   "metadata": {},
   "outputs": [],
   "source": [
    "in_data_path = '/Users/genie/data/oflc/kaggle/h1b_data_fy2011_fy2018_20190309.csv'\n",
    "cities_data_path = '/Users/genie/data/oflc/uscitiesv1.3.csv'"
   ]
  },
  {
   "cell_type": "code",
   "execution_count": null,
   "metadata": {},
   "outputs": [],
   "source": [
    "out_dir = '/Users/genie/dev/projects/github/h1b_data_analysis/out'\n",
    "os.chdir(out_dir)\n",
    "\n",
    "include_plotlyjs=True"
   ]
  },
  {
   "cell_type": "code",
   "execution_count": 3,
   "metadata": {},
   "outputs": [
    {
     "name": "stderr",
     "output_type": "stream",
     "text": [
      "/anaconda3/envs/dev2/lib/python3.7/site-packages/IPython/core/interactiveshell.py:3020: DtypeWarning:\n",
      "\n",
      "Columns (11) have mixed types. Specify dtype option on import or set low_memory=False.\n",
      "\n"
     ]
    }
   ],
   "source": [
    "df = pd.read_csv(in_data_path,quotechar='\"',na_values='',encoding = \"ISO-8859-1\")\n",
    "df = df.drop(['case_submitted','decision_date','full_time_position','soc_name','lat','lng'],axis=1)"
   ]
  },
  {
   "cell_type": "code",
   "execution_count": 5,
   "metadata": {},
   "outputs": [],
   "source": [
    "# fiscal year counts\n",
    "df1 = DplyFrame(df) >> sift(X.case_status.notnull()) >> group_by(X.fiscal_year) >> summarize(fy_total=X.case_status.count())\n",
    "df2 = DplyFrame(df) >> sift(X.case_status==\"C\") >> group_by(X.fiscal_year) >> summarize(fy_certified=X.case_status.count())\n",
    "oflc_fy_counts = pd.merge(df1,df2,on='fiscal_year')\n",
    "del df1\n",
    "del df2"
   ]
  },
  {
   "cell_type": "code",
   "execution_count": 6,
   "metadata": {},
   "outputs": [],
   "source": [
    "# fiscal year counts by state\n",
    "\n",
    "df['state'] = df.apply(lambda x: x['work_state'] if pd.notnull(x['work_state']) else x['emp_state'] ,axis=1)\n",
    "\n",
    "df1 = DplyFrame(df) >> sift(X.case_status.notnull(),X.state.notnull()) >> group_by(X.fiscal_year, X.state) >> summarize(fy_state_total=X.case_status.count())\n",
    "df2 = DplyFrame(df) >> sift(X.case_status==\"C\",X.state.notnull()) >> group_by(X.fiscal_year, X.state) >> summarize(fy_certified_state=X.case_status.count())\n",
    "df1 = pd.merge(df1,df2,on=['fiscal_year','state'])\n",
    "del df2\n",
    "\n",
    "oflc_fy_state_counts = pd.merge(df1, oflc_fy_counts, how='left', on='fiscal_year')\n",
    "del df1\n",
    "\n",
    "oflc_fy_state_counts['fy_state_total_share_pct'] =  oflc_fy_state_counts.apply(lambda x: round(x['fy_state_total']/x['fy_total'] * 100,2), axis=1)\n",
    "oflc_fy_state_counts['fy_state_certified_share_pct'] =  oflc_fy_state_counts.apply(lambda x: round(x['fy_certified_state']/x['fy_certified'] * 100,2), axis=1)\n",
    "oflc_fy_state_counts = oflc_fy_state_counts.drop(['fy_certified_state','fy_total','fy_certified'],axis=1)\n",
    "\n",
    "zmin = oflc_fy_state_counts['fy_state_total'].min()\n",
    "zmax = oflc_fy_state_counts['fy_state_total'].max()\n",
    "\n",
    "scl = [[0.0, '#ffffff'],[0.2, '#ff9999'],[0.4, '#ff4d4d'], [0.6, '#ff1a1a'],[0.8, '#cc0000'],[1.0, '#4d0000']] # reds\n",
    "\n",
    "# create data for slider\n",
    "data_slider = []\n",
    "for year in oflc_fy_state_counts.fiscal_year.unique():\n",
    "    df_temp = oflc_fy_state_counts[(oflc_fy_state_counts['fiscal_year']== year)]\n",
    "    \n",
    "    for col in df_temp.columns:\n",
    "        df_temp[col] = df_temp[col].astype(str)\n",
    "    \n",
    "    df_temp['text'] = 'FY' + df_temp['fiscal_year'] + ' Share (%) ' + df_temp['fy_state_total_share_pct'] \n",
    "    \n",
    "    data_temp = dict(\n",
    "        type='choropleth',\n",
    "        colorscale = scl,\n",
    "        zmin=zmin, \n",
    "        zmax=zmax,\n",
    "        autocolorscale = False,\n",
    "        locations = df_temp['state'],\n",
    "        z = df_temp['fy_state_total'].astype(float),\n",
    "        locationmode = 'USA-states',\n",
    "        text = df_temp['text'],\n",
    "        marker = dict(line = dict(color = 'rgb(255,255,255)',width = 2)),\n",
    "        colorbar = dict(title = \"Total applications\"))\n",
    "    \n",
    "    data_slider.append(data_temp)\n",
    "\n",
    "# create steps\n",
    "steps = []\n",
    "for i in range(len(data_slider)):\n",
    "    step = dict(method='restyle',\n",
    "                args=['visible', [False] * len(data_slider)],\n",
    "                label='Year {}'.format(i + 2011)) # label to be displayed for each step (year)\n",
    "    step['args'][1][i] = True\n",
    "    steps.append(step)\n",
    "\n",
    "\n",
    "sliders = [dict(active=0, pad={\"t\": 1}, steps=steps)] \n",
    "\n",
    "layout = go.Layout(title=go.layout.Title(text='2011-2018 Statewide H-1B Application Volume<br>(Hover for breakdown)'),\n",
    "                   geo=go.layout.Geo(scope='usa',projection=go.layout.geo.Projection(type='albers usa'),\n",
    "                                     showlakes=True,lakecolor = 'rgb(255, 255, 255)'),\n",
    "                   sliders=sliders)\n",
    "\n",
    "fig = go.Figure(data = data_slider, layout = layout)\n",
    "plotly.offline.plot(fig, include_plotlyjs=include_plotlyjs, filename='oflc_statewide_dist.html', validate=True)\n",
    "\n",
    "del oflc_fy_state_counts"
   ]
  },
  {
   "cell_type": "code",
   "execution_count": 7,
   "metadata": {},
   "outputs": [
    {
     "name": "stderr",
     "output_type": "stream",
     "text": [
      "<>:3: DeprecationWarning:\n",
      "\n",
      "invalid escape sequence \\s\n",
      "\n"
     ]
    }
   ],
   "source": [
    "# functions\n",
    "\n",
    "def validateCity(x):\n",
    "    x = re.sub(\"\\n\",\" \", x)\n",
    "    x = re.sub(\"\\s\",\"\",x)\n",
    "    return x.isalpha()\n",
    "\n",
    "def deriveCityVariable(x):\n",
    "    result = ''\n",
    "    if(pd.notnull(x['work_city']) and validateCity(x['work_city'])==True):\n",
    "        return x['work_city'].title()\n",
    "    elif(pd.notnull(x['emp_city']) and validateCity(x['emp_city'])==True):\n",
    "        return x['emp_city'].title()\n",
    "    else:\n",
    "        return None\n",
    "    \n",
    "df['city'] = df.apply(deriveCityVariable, axis=1)\n",
    "df['city_state'] = df.apply(lambda x: ','.join([x['city'],x['state']]) if pd.notnull(x['city']) and pd.notnull(x['state']) else None,axis=1)"
   ]
  },
  {
   "cell_type": "code",
   "execution_count": 9,
   "metadata": {},
   "outputs": [],
   "source": [
    "# fiscal year counts by city\n",
    "\n",
    "df1 = DplyFrame(df) >> sift(X.case_status.notnull(),X.city_state.notnull()) >> group_by(X.fiscal_year, X.city_state) >> summarize(fy_city_total=X.case_status.count())\n",
    "\n",
    "oflc_fy_city_counts = pd.merge(df1, oflc_fy_counts, how='left', on='fiscal_year')\n",
    "del df1\n",
    "\n",
    "oflc_fy_city_counts['fy_city_total_share_pct'] =  oflc_fy_city_counts.apply(lambda x: round(x['fy_city_total']/x['fy_total'] * 100,2), axis=1)\n",
    "oflc_fy_city_counts = DplyFrame(oflc_fy_city_counts) >> sift(X.fy_city_total>50) >> select(X.fiscal_year,X.city_state,X.fy_city_total,X.fy_city_total_share_pct)\n",
    "oflc_fy_city_counts['key'] = oflc_fy_city_counts['city_state'].apply(lambda x: x.upper() if x is not None else None) \n",
    "\n",
    "cities_df = pd.read_csv(cities_data_path,quotechar='\"',na_values='',encoding = \"ISO-8859-1\")\n",
    "cities_df['key'] = cities_df.apply(lambda x: x['city'] + ',' + x['state_id'], axis=1)\n",
    "cities_df = cities_df.drop(['city','state_id','zip','county','Unnamed: 6'],axis=1)\n",
    "\n",
    "oflc_fy_city_counts = pd.merge(oflc_fy_city_counts, cities_df, how='left', on='key')\n",
    "del cities_df\n",
    "\n",
    "oflc_fy_city_counts = oflc_fy_city_counts.drop(['key'],axis=1)\n",
    "oflc_fy_city_counts = oflc_fy_city_counts.dropna()\n",
    "\n",
    "x_min = float(oflc_fy_city_counts['fy_city_total'].min())\n",
    "x_max = float(oflc_fy_city_counts['fy_city_total'].max())\n",
    "norm_x = 10.0\n",
    "norm_y = 50.0\n",
    "\n",
    "oflc_fy_city_counts['size'] = oflc_fy_city_counts.apply(lambda x : round(norm_x + (norm_y-norm_x)*(x['fy_city_total']-x_min)/(x_max-x_min),0), axis=1)\n",
    "\n",
    "scl = [[0.0,'#ffe5e5'],[0.1, '#ffcccc'], [0.2, '#ffb2b2'], [0.3, '#ff9999'],[0.4, '#ff7f7f'], [0.5, '#ff6666'], [0.6, '#ff4c4c'], [0.7, '#ff3232'], \n",
    "       [0.8, '#ff1919'], [0.9, '#ff0000'], [1.0, '#cc0000']] # reds\n",
    "\n",
    "cmax=oflc_fy_city_counts['fy_city_total'].max()\n",
    "\n",
    "# create data for slider\n",
    "data_slider = []\n",
    "for year in oflc_fy_city_counts.fiscal_year.unique():\n",
    "    df_temp = oflc_fy_city_counts[(oflc_fy_city_counts['fiscal_year']== year)]\n",
    "    \n",
    "    for col in df_temp.columns:\n",
    "        df_temp[col] = df_temp[col].astype(str)\n",
    "    \n",
    "    df_temp['text'] = df_temp['city_state'] + '<br>FY' + df_temp['fiscal_year'] + ' Total Applications:' + df_temp['fy_city_total'] + '<br>Share (%) ' + df_temp['fy_city_total_share_pct'] \n",
    "    \n",
    "    data_temp = go.Scattergeo(\n",
    "#         type='scattergeo',\n",
    "        locationmode = 'USA-states',\n",
    "        lon = df_temp['lng'].astype(float),\n",
    "        lat = df_temp['lat'].astype(float),\n",
    "        text = df_temp['text'],\n",
    "        mode = 'markers',\n",
    "        marker = dict( \n",
    "            size = df_temp['size'].astype(float), \n",
    "            opacity = 0.8,\n",
    "            symbol = 'circle',\n",
    "            line = dict(\n",
    "                width=1,\n",
    "                color='rgba(102, 102, 102)'\n",
    "            ),\n",
    "            cmin = 0,\n",
    "            cmax = cmax,\n",
    "            colorscale=scl,\n",
    "            autocolorscale = False,\n",
    "#             reversescale = True,\n",
    "            color = df_temp['fy_city_total'].astype(float),\n",
    "            colorbar=dict(\n",
    "                title=\"H-1B distributions by city\"\n",
    "            )\n",
    "        ))\n",
    "    \n",
    "    data_slider.append(data_temp)\n",
    "\n",
    "# create steps\n",
    "steps = []\n",
    "for i in range(len(data_slider)):\n",
    "    step = dict(method='restyle',\n",
    "                args=['visible', [False] * len(data_slider)],\n",
    "                label='Year {}'.format(i + 2011)) # label to be displayed for each step (year)\n",
    "    step['args'][1][i] = True\n",
    "    steps.append(step)\n",
    "\n",
    "\n",
    "sliders = [dict(active=0, pad={\"t\": 1}, steps=steps)] \n",
    "\n",
    "layout = dict(\n",
    "        title = '2011-2018 H-1B distributions by city', \n",
    "        geo = dict(\n",
    "            scope='usa',\n",
    "            projection=dict( type='albers usa' ),\n",
    "            showland = True,\n",
    "            showlakes=True,lakecolor = 'rgb(255, 255, 255)',\n",
    "            landcolor = \"rgb(250, 250, 250)\",\n",
    "            subunitcolor = \"rgb(217, 217, 217)\",\n",
    "            countrycolor = \"rgb(217, 217, 217)\",\n",
    "            countrywidth = 0.5,\n",
    "            subunitwidth = 0.5        \n",
    "        ),\n",
    "        sliders=sliders\n",
    "    )\n",
    "\n",
    "fig = go.Figure(data = data_slider, layout = layout)\n",
    "plotly.offline.plot(fig, include_plotlyjs=include_plotlyjs, filename='oflc_city_dist.html', validate=True)"
   ]
  },
  {
   "cell_type": "code",
   "execution_count": 13,
   "metadata": {},
   "outputs": [],
   "source": [
    "# lets define some functions\n",
    "\n",
    "def calc_emp_avg_annual_wage(x):\n",
    "    result = None\n",
    "    if(x['wage_from']>0 and x['wage_to']>0):\n",
    "        result = round((x['wage_from'] + x['wage_to'])/2,2)\n",
    "    else:\n",
    "        result = x['wage_from']\n",
    "    \n",
    "    if(x['wage_unit']==\"M\"):\n",
    "        result=round(result*12,2)\n",
    "    elif(x['wage_unit']==\"BW\"):\n",
    "        result=round(result*26,2)\n",
    "    elif(x['wage_unit']==\"W\"):\n",
    "        result = round(result*52,2)\n",
    "    elif(x['wage_unit']==\"H\"):\n",
    "        result = round(result*40*52,2)\n",
    "    return(result)\n",
    "\n",
    "def human_format(num):\n",
    "    num = float('{:.3g}'.format(num))\n",
    "    magnitude = 0\n",
    "    while abs(num) >= 1000:\n",
    "        magnitude += 1\n",
    "        num /= 1000.0\n",
    "    return '{}{}'.format('{:f}'.format(num).rstrip('0').rstrip('.'), ['', 'K', 'M', 'B', 'T'][magnitude])\n"
   ]
  },
  {
   "cell_type": "code",
   "execution_count": 14,
   "metadata": {},
   "outputs": [],
   "source": [
    "selected_metros = ['Seattle', 'SF Bay Area', 'Dallas', 'Miami','Atlanta', 'Detroit-Ann Arbor', 'Boston', 'Los Angeles', 'New York-Newark',\n",
    "       'Charlotte', 'Chicago', 'Tampa', 'Raleigh-Durham', 'Austin', 'Pittsburgh', 'San Diego','Washington DC', 'Philadelphia', 'Milwaukee', \n",
    "       'Phoenix', 'Houston','Denver', 'Minneapolis-St.Paul', 'St. Louis', 'Nashville', 'Orlando', 'Kansas City', 'Las Vegas','Sacremento', \n",
    "        'Richmond', 'Portland', 'Tulsa', 'Anchorage', 'Honolulu']\n",
    "\n",
    "selected_metros = sorted(selected_metros)\n",
    "\n",
    "oflc_2018_selected_metros = df[(df.fiscal_year==2018) & (df.case_status==\"C\") & (df.metro.isin(selected_metros))]\n",
    "oflc_2018_selected_metros['avg_annual_wage'] = oflc_2018_selected_metros.apply(calc_emp_avg_annual_wage, axis=1)"
   ]
  },
  {
   "cell_type": "code",
   "execution_count": 16,
   "metadata": {},
   "outputs": [
    {
     "data": {
      "text/plain": [
       "'file:///Users/genie/dev/projects/github/h1b_data_analysis/out/oflc_selected_cities_percentile_salary_2018.html'"
      ]
     },
     "execution_count": 16,
     "metadata": {},
     "output_type": "execute_result"
    }
   ],
   "source": [
    "## selected cities - salary plot\n",
    "\n",
    "x_lables=selected_metros\n",
    "y_labels=['P25','P50','P75','P90']\n",
    "\n",
    "x_metro_data=[]\n",
    "for x_metro in selected_metros:\n",
    "    x_metro_values = oflc_2018_selected_metros[oflc_2018_selected_metros.metro==x_metro]['avg_annual_wage'].values\n",
    "    q25, q50, q75, q90 = np.percentile(x_metro_values,[25,50,75,90])\n",
    "    x_metro_data.append([round(q25,2),round(q50,2),round(q75,2),round(q90,2)])\n",
    "\n",
    "traces = []\n",
    "for ylabel_idx,y_label in enumerate(y_labels):\n",
    "    ylabel_data_points = [x_metro_data[metro_idx][ylabel_idx] for metro_idx in range(len(x_metro_data))]\n",
    "    traces.append(go.Bar(x=selected_metros,y=ylabel_data_points,name=y_labels[ylabel_idx]))\n",
    "    \n",
    "data = [traces[i] for i in range(len(traces))]\n",
    "\n",
    "layout = go.Layout(barmode='stack', title='Percentile-Salary Distribution in Selected Cities (FY-2018)',yaxis=dict(title='Salary (Cumulative)'))\n",
    "\n",
    "fig = go.Figure(data=data, layout=layout)\n",
    "plotly.offline.plot(fig, include_plotlyjs=include_plotlyjs, filename='oflc_selected_cities_percentile_salary_2018.html')"
   ]
  },
  {
   "cell_type": "code",
   "execution_count": 17,
   "metadata": {},
   "outputs": [
    {
     "data": {
      "text/plain": [
       "'file:///Users/genie/dev/projects/github/h1b_data_analysis/out/oflc_selected_cities_outliers_2018.html'"
      ]
     },
     "execution_count": 17,
     "metadata": {},
     "output_type": "execute_result"
    }
   ],
   "source": [
    "## selected cities - outliers\n",
    "\n",
    "x_lables=selected_metros\n",
    "y_labels=['Low Income Segment <P25-1.5*IQR','Affluent Segment >P75+1.5*IQR']\n",
    "\n",
    "x_metro_data=[]\n",
    "y_labels_hover_text=[]\n",
    "for x_metro in selected_metros:\n",
    "    x_metro_values = oflc_2018_selected_metros[oflc_2018_selected_metros.metro==x_metro]['avg_annual_wage'].values\n",
    "    q25, q50, q75, q90 = np.percentile(x_metro_values,[25,50,75,90])\n",
    "    IQR = q75-q25\n",
    "    l_outlier_wage = q25-1.5*IQR\n",
    "    h_outlier_wage = q75+1.5*IQR\n",
    "    l_outliers = list(filter(lambda x: x < l_outlier_wage ,x_metro_values))\n",
    "    h_outliers = list(filter(lambda x: x > h_outlier_wage ,x_metro_values))\n",
    "    x_metro_data.append([round(len(l_outliers)/len(x_metro_values)*100,2), round(len(h_outliers)/len(x_metro_values)*100,2)])\n",
    "    y_labels_hover_text.append([human_format(l_outlier_wage),human_format(h_outlier_wage)])\n",
    "\n",
    "traces = []\n",
    "for ylabel_idx,y_label in enumerate(y_labels):\n",
    "    ylabel_data_points = [x_metro_data[metro_idx][ylabel_idx] for metro_idx in range(len(x_metro_data))]\n",
    "    ylabel_hover_text = [y_labels_hover_text[idx][ylabel_idx] for idx in range(len(y_labels_hover_text))]\n",
    "    traces.append(go.Bar(x=selected_metros,y=ylabel_data_points,text=ylabel_hover_text, name=y_labels[ylabel_idx]))\n",
    "    \n",
    "data = [traces[i] for i in range(len(traces))]\n",
    "\n",
    "layout = go.Layout(barmode='stack',title='Outlier Population Proportions in Selected Cities (FY-2018)',\n",
    "                   yaxis=dict(title='% of H1B certified population'), legend=dict(x=0,y=1,traceorder='normal',orientation=\"h\"))\n",
    "\n",
    "fig = go.Figure(data=data, layout=layout)\n",
    "plotly.offline.plot(fig, include_plotlyjs=include_plotlyjs, filename='oflc_selected_cities_outliers_2018.html')"
   ]
  },
  {
   "cell_type": "code",
   "execution_count": 24,
   "metadata": {},
   "outputs": [
    {
     "data": {
      "text/plain": [
       "'file:///Users/genie/dev/projects/github/h1b_data_analysis/out/test.html'"
      ]
     },
     "execution_count": 24,
     "metadata": {},
     "output_type": "execute_result"
    }
   ],
   "source": [
    "# Median salary in selected cities, 2011-2018\n",
    "\n",
    "df1 = df[(df.case_status==\"C\") & (df.metro.isin(selected_metros))]\n",
    "fiscal_years = sorted(df1['fiscal_year'].unique())\n",
    "traces_a = []\n",
    "for x_metro in selected_metros:\n",
    "    y_values = []\n",
    "    for year in fiscal_years:\n",
    "        df_temp = df1[(df1.fiscal_year==year) & (df1.metro==x_metro)]\n",
    "        df_temp['avg_annual_wage'] = df_temp.apply(calc_emp_avg_annual_wage,axis=1)\n",
    "        q50, q90 = np.percentile(df_temp['avg_annual_wage'].values,[50,90])\n",
    "        y_values.append(q50)\n",
    "    traces_a.append(go.Scatter(x=fiscal_years,y=y_values, name=x_metro))\n",
    "\n",
    "data = [traces_a[i] for i in range(len(traces_a))]\n",
    "layout = go.Layout(title='Median Salary (2011-2018)',yaxis=dict(title='Median salary'), hovermode='closest')\n",
    "fig = go.Figure(data,layout)\n",
    "plotly.offline.plot(fig, include_plotlyjs=include_plotlyjs, filename='test.html')"
   ]
  }
 ],
 "metadata": {
  "kernelspec": {
   "display_name": "Python 3",
   "language": "python",
   "name": "python3"
  },
  "language_info": {
   "codemirror_mode": {
    "name": "ipython",
    "version": 3
   },
   "file_extension": ".py",
   "mimetype": "text/x-python",
   "name": "python",
   "nbconvert_exporter": "python",
   "pygments_lexer": "ipython3",
   "version": "3.7.1"
  }
 },
 "nbformat": 4,
 "nbformat_minor": 2
}
